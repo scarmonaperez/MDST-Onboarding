{
  "cells": [
    {
      "cell_type": "markdown",
      "metadata": {
        "id": "view-in-github",
        "colab_type": "text"
      },
      "source": [
        "<a href=\"https://colab.research.google.com/github/scarmonaperez/MDST-Onboarding/blob/main/checkpoint0.ipynb\" target=\"_parent\"><img src=\"https://colab.research.google.com/assets/colab-badge.svg\" alt=\"Open In Colab\"/></a>"
      ]
    },
    {
      "cell_type": "markdown",
      "metadata": {
        "id": "0a8IYAJUshu1"
      },
      "source": [
        "# Checkpoint 0"
      ],
      "id": "0a8IYAJUshu1"
    },
    {
      "cell_type": "markdown",
      "metadata": {
        "id": "m6KMpMvoBAfM"
      },
      "source": [
        "These exercises are a mix of Python and Pandas practice. Most should be no more than a few lines of code!"
      ],
      "id": "m6KMpMvoBAfM"
    },
    {
      "cell_type": "code",
      "execution_count": null,
      "metadata": {
        "id": "Jo6wuTgkshu1"
      },
      "outputs": [],
      "source": [
        "# here is a Python list:\n",
        "\n",
        "a = [1, 2, 3, 4, 5, 6]\n"
      ],
      "id": "Jo6wuTgkshu1"
    },
    {
      "cell_type": "code",
      "execution_count": null,
      "id": "779d96b1",
      "metadata": {
        "colab": {
          "base_uri": "https://localhost:8080/"
        },
        "id": "779d96b1",
        "outputId": "793d1416-09e2-424b-b8d8-4dbee1b24b55"
      },
      "outputs": [
        {
          "output_type": "stream",
          "name": "stdout",
          "text": [
            "[4, 5, 6]\n"
          ]
        }
      ],
      "source": [
        "# get a list containing the last 3 elements of a\n",
        "# Yes, you can just type out [4, 5, 6] but we really want to see you demonstrate you know how to use list slicing in Python\n",
        "\n",
        "print(a[3:6])\n",
        "\n"
      ]
    },
    {
      "cell_type": "code",
      "execution_count": null,
      "id": "b6a54def",
      "metadata": {
        "colab": {
          "base_uri": "https://localhost:8080/"
        },
        "id": "b6a54def",
        "outputId": "16e2807b-3a9e-46de-dd71-9975c263a31c"
      },
      "outputs": [
        {
          "output_type": "stream",
          "name": "stdout",
          "text": [
            "[1, 2, 3, 4, 5, 6, 7, 8, 9, 10, 11, 12, 13, 14, 15, 16, 17, 18, 19, 20]\n"
          ]
        }
      ],
      "source": [
        "# create a list of numbers from 1 to 20\n",
        "\n",
        "b = [1,2,3,4,5,6,7,8,9,10,11,12,13,14,15,16,17,18,19,20]\n",
        "print(b)\n"
      ]
    },
    {
      "cell_type": "code",
      "execution_count": null,
      "id": "487873ac",
      "metadata": {
        "colab": {
          "base_uri": "https://localhost:8080/"
        },
        "id": "487873ac",
        "outputId": "2ab57271-c5fa-4ab7-ac6b-78b5ba2d8e6b"
      },
      "outputs": [
        {
          "output_type": "stream",
          "name": "stdout",
          "text": [
            "[2, 4, 6, 8, 10, 12, 14, 16, 18, 20, 22, 24, 26, 28, 30, 32, 34, 36, 38, 40, 42, 44, 46, 48, 50, 52, 54, 56, 58, 60, 62, 64, 66, 68, 70, 72, 74, 76, 78, 80, 82, 84, 86, 88, 90, 92, 94, 96, 98, 100]\n"
          ]
        }
      ],
      "source": [
        "# now get a list with only the even numbers between 1 and 100\n",
        "# you may or may not make use of the list you made in the last cell\n",
        "one_through_hundredList = list(range(1, 101))\n",
        "even_num = []\n",
        "\n",
        "for num in one_through_hundredList:\n",
        "      if num % 2 == 0:\n",
        "        even_num.append(num)\n",
        "\n",
        "print(even_num)"
      ]
    },
    {
      "cell_type": "code",
      "execution_count": null,
      "id": "3d4bb5dd",
      "metadata": {
        "colab": {
          "base_uri": "https://localhost:8080/"
        },
        "id": "3d4bb5dd",
        "outputId": "eafd3160-f327-4172-b6e9-4b376d4ea4f4"
      },
      "outputs": [
        {
          "output_type": "stream",
          "name": "stdout",
          "text": [
            "1.5\n"
          ]
        }
      ],
      "source": [
        "# write a function that takes two numbers as arguments\n",
        "# and returns the first number divided by the second\n",
        "x = 3\n",
        "y = 2\n",
        "function_xy = x/y\n",
        "print(function_xy)\n"
      ]
    },
    {
      "cell_type": "code",
      "execution_count": null,
      "id": "f55df04e",
      "metadata": {
        "colab": {
          "base_uri": "https://localhost:8080/"
        },
        "id": "f55df04e",
        "outputId": "ecc74e53-e10b-4099-d404-51c98dcfb72c"
      },
      "outputs": [
        {
          "output_type": "stream",
          "name": "stdout",
          "text": [
            "[1, 2, 3, 4, 5, 6, 7, 8, 9, 10, 11, 12, 13, 14, 15, 16, 17, 18, 19, 20, 21, 22, 23, 24, 25, 26, 27, 28, 29, 30]\n",
            "1\n",
            "2\n",
            "fizz\n",
            "4\n",
            "buzz\n",
            "fizz\n",
            "7\n",
            "8\n",
            "fizz\n",
            "buzz\n",
            "11\n",
            "fizz\n",
            "13\n",
            "14\n",
            "fizzbuzz\n",
            "16\n",
            "17\n",
            "fizz\n",
            "19\n",
            "buzz\n",
            "fizz\n",
            "22\n",
            "23\n",
            "fizz\n",
            "buzz\n",
            "26\n",
            "fizz\n",
            "28\n",
            "29\n",
            "fizzbuzz\n"
          ]
        }
      ],
      "source": [
        "# fizzbuzz\n",
        "# you will need to use both iteration and control flow\n",
        "# go through all numbers from 1 to 30 in order\n",
        "# if the number is a multiple of 3, print fizz\n",
        "# if the number is a multiple of 5, print buzz\n",
        "# if the number is a multiple of 3 and 5, print fizzbuzz and NOTHING ELSE\n",
        "# if the number is neither a multiple of 3 nor a multiple of 5, print the number\n",
        "list2 = list(range(1, 31))\n",
        "print(list2)\n",
        "\n",
        "for num in list2:\n",
        "    if num % 3 == 0 and num % 5 == 0:\n",
        "        print(\"fizzbuzz\")\n",
        "    elif num % 3 == 0:\n",
        "        print(\"fizz\")\n",
        "    elif num % 5 == 0:\n",
        "        print(\"buzz\")\n",
        "    else:\n",
        "        print(num)\n"
      ]
    },
    {
      "cell_type": "code",
      "execution_count": null,
      "id": "78aace0b",
      "metadata": {
        "colab": {
          "base_uri": "https://localhost:8080/"
        },
        "id": "78aace0b",
        "outputId": "1900a105-da07-4cea-c5da-132327390e5c"
      },
      "outputs": [
        {
          "output_type": "stream",
          "name": "stdout",
          "text": [
            "{'Gyro': 9, 'Burger': 9, 'Greek Salad': 8, 'Philly Steak': 10}\n"
          ]
        }
      ],
      "source": [
        "# create a dictionary that reflects the following menu pricing (taken from Ahmo's)\n",
        "# Gyro: $9\n",
        "# Burger: $9\n",
        "# Greek Salad: $8\n",
        "# Philly Steak: $10\n",
        "amohs_pricing = {\"Gyro\":9, \"Burger\":9, \"Greek Salad\":8, \"Philly Steak\": 10}\n",
        "print(amohs_pricing)\n"
      ]
    },
    {
      "cell_type": "code",
      "execution_count": 26,
      "metadata": {
        "colab": {
          "base_uri": "https://localhost:8080/"
        },
        "id": "WzCQ5HOJshvA",
        "outputId": "d81100c3-a78a-4c38-ab5d-f554c539dac3"
      },
      "outputs": [
        {
          "output_type": "stream",
          "name": "stdout",
          "text": [
            "         beverage_category       beverage      beverage_prep  calories  \\\n",
            "0                   coffee  brewed coffee              Short         3   \n",
            "1                   coffee  brewed coffee               Tall         4   \n",
            "2                   coffee  brewed coffee             Grande         5   \n",
            "3                   coffee  brewed coffee              Venti         5   \n",
            "4  classic espresso drinks     caff latte  Short Nonfat Milk        70   \n",
            "\n",
            "   total fat  trans fat  saturated fat  sodium  total carbohydrates  \\\n",
            "0        0.1        0.0            0.0       0                    5   \n",
            "1        0.1        0.0            0.0       0                   10   \n",
            "2        0.1        0.0            0.0       0                   10   \n",
            "3        0.1        0.0            0.0       0                   10   \n",
            "4        0.1        0.1            0.0       5                   75   \n",
            "\n",
            "   cholesterol  dietary fibre  sugars  protein  vitamin a  vitamin c  calcium  \\\n",
            "0            0              0       0      0.3          0          0        0   \n",
            "1            0              0       0      0.5          0          0        0   \n",
            "2            0              0       0      1.0          0          0        0   \n",
            "3            0              0       0      1.0          0          0        2   \n",
            "4           10              0       9      6.0         10          0       20   \n",
            "\n",
            "   iron  caffeine  \n",
            "0   0.0     175.0  \n",
            "1   0.0     260.0  \n",
            "2   0.0     330.0  \n",
            "3   0.0     410.0  \n",
            "4   0.0      75.0  \n"
          ]
        }
      ],
      "source": [
        "# load in the \"starbucks.csv\" dataset\n",
        "# refer to how we read the cereal.csv dataset in the tutorial\n",
        "import pandas as pd\n",
        "from google.colab import drive\n",
        "path= '/content/drive/My Drive/MDST/starbucks.csv'\n",
        "df_starbucks = pd.read_csv(path)\n",
        "print(df_starbucks.head())"
      ],
      "id": "WzCQ5HOJshvA"
    },
    {
      "cell_type": "code",
      "execution_count": 29,
      "id": "ac0f0c12",
      "metadata": {
        "id": "ac0f0c12",
        "colab": {
          "base_uri": "https://localhost:8080/"
        },
        "outputId": "19efd0d6-e8d5-4d67-8623-7d506646b04d"
      },
      "outputs": [
        {
          "output_type": "stream",
          "name": "stdout",
          "text": [
            "              beverage_category  \\\n",
            "81    signature espresso drinks   \n",
            "83    signature espresso drinks   \n",
            "84    signature espresso drinks   \n",
            "85    signature espresso drinks   \n",
            "128             tazo tea drinks   \n",
            "214  frappuccino blended coffee   \n",
            "215  frappuccino blended coffee   \n",
            "216  frappuccino blended coffee   \n",
            "\n",
            "                                          beverage      beverage_prep  \\\n",
            "81   white chocolate mocha (without whipped cream)            2% Milk   \n",
            "83   white chocolate mocha (without whipped cream)  Venti Nonfat Milk   \n",
            "84   white chocolate mocha (without whipped cream)            2% Milk   \n",
            "85   white chocolate mocha (without whipped cream)            Soymilk   \n",
            "128                           tazo green tea latte            2% Milk   \n",
            "214              java chip (without whipped cream)  Venti Nonfat Milk   \n",
            "215              java chip (without whipped cream)         Whole Milk   \n",
            "216              java chip (without whipped cream)            Soymilk   \n",
            "\n",
            "     calories  total fat  trans fat  saturated fat  sodium  \\\n",
            "81        400       11.0        7.0            0.2      25   \n",
            "83        450        7.0        6.0            0.0      10   \n",
            "84        510       15.0        9.0            0.2      35   \n",
            "85        460       13.0        6.0            0.0       5   \n",
            "128       450       10.0        5.0            0.3      40   \n",
            "214       420        5.0        4.0            0.0       5   \n",
            "215       460       10.0        7.0            0.2      15   \n",
            "216       430        8.0        4.5            0.0       0   \n",
            "\n",
            "     total carbohydrates  cholesterol  dietary fibre  sugars  protein  \\\n",
            "81                   250           61              0      58     15.0   \n",
            "83                   310           78              0      74     19.0   \n",
            "84                   330           77              0      74     19.0   \n",
            "85                   290           70              1      64     16.0   \n",
            "128                  230           72              2      71     17.0   \n",
            "214                  340           90              2      84      7.0   \n",
            "215                  340           90              2      84      7.0   \n",
            "216                  330           88              3      80      6.0   \n",
            "\n",
            "     vitamin a  vitamin c  calcium  iron  caffeine  \n",
            "81          15          2       45   0.0     150.0  \n",
            "83          25          2       60   2.0     150.0  \n",
            "84          20          4       60   2.0     150.0  \n",
            "85          15          2       60  20.0     150.0  \n",
            "128         25         20       50   6.0     110.0  \n",
            "214         10          0       20  35.0     145.0  \n",
            "215          6          0       15  35.0     145.0  \n",
            "216          6          0       20  40.0     145.0  \n"
          ]
        }
      ],
      "source": [
        "# select all rows with more than and including 400 calories\n",
        "import pandas as pd\n",
        "from google.colab import drive\n",
        "path= '/content/drive/My Drive/MDST/starbucks.csv'\n",
        "df_starbucks = pd.read_csv(path)\n",
        "df_greaterorequal_400cal = df_starbucks[df_starbucks[\"calories\"] >= 400]\n",
        "print(df_greaterorequal_400cal)"
      ]
    },
    {
      "cell_type": "code",
      "execution_count": 31,
      "id": "ee8f8241",
      "metadata": {
        "id": "ee8f8241",
        "colab": {
          "base_uri": "https://localhost:8080/"
        },
        "outputId": "58c8df90-1e61-4963-9ecc-ad665d1334a9"
      },
      "outputs": [
        {
          "output_type": "stream",
          "name": "stdout",
          "text": [
            "             beverage_category  \\\n",
            "11     classic espresso drinks   \n",
            "14     classic espresso drinks   \n",
            "35     classic espresso drinks   \n",
            "38     classic espresso drinks   \n",
            "69   signature espresso drinks   \n",
            "72   signature espresso drinks   \n",
            "75   signature espresso drinks   \n",
            "77   signature espresso drinks   \n",
            "78   signature espresso drinks   \n",
            "81   signature espresso drinks   \n",
            "84   signature espresso drinks   \n",
            "118            tazo tea drinks   \n",
            "119            tazo tea drinks   \n",
            "121            tazo tea drinks   \n",
            "122            tazo tea drinks   \n",
            "124            tazo tea drinks   \n",
            "125            tazo tea drinks   \n",
            "127            tazo tea drinks   \n",
            "128            tazo tea drinks   \n",
            "169      shaken iced beverages   \n",
            "170      shaken iced beverages   \n",
            "171      shaken iced beverages   \n",
            "172                  smoothies   \n",
            "175                  smoothies   \n",
            "176                  smoothies   \n",
            "177                  smoothies   \n",
            "178                  smoothies   \n",
            "179                  smoothies   \n",
            "180                  smoothies   \n",
            "229   frappuccino blended crme   \n",
            "230   frappuccino blended crme   \n",
            "232   frappuccino blended crme   \n",
            "233   frappuccino blended crme   \n",
            "235   frappuccino blended crme   \n",
            "236   frappuccino blended crme   \n",
            "\n",
            "                                              beverage       beverage_prep  \\\n",
            "11                                          caff latte             2% Milk   \n",
            "14                                          caff latte             2% Milk   \n",
            "35            vanilla latte (or other flavoured latte)             2% Milk   \n",
            "38            vanilla latte (or other flavoured latte)             2% Milk   \n",
            "69                                   caramel macchiato             2% Milk   \n",
            "72                                   caramel macchiato             2% Milk   \n",
            "75       white chocolate mocha (without whipped cream)             2% Milk   \n",
            "77       white chocolate mocha (without whipped cream)    Tall Nonfat Milk   \n",
            "78       white chocolate mocha (without whipped cream)             2% Milk   \n",
            "81       white chocolate mocha (without whipped cream)             2% Milk   \n",
            "84       white chocolate mocha (without whipped cream)             2% Milk   \n",
            "118                               tazo green tea latte   Short Nonfat Milk   \n",
            "119                               tazo green tea latte             2% Milk   \n",
            "121                               tazo green tea latte    Tall Nonfat Milk   \n",
            "122                               tazo green tea latte             2% Milk   \n",
            "124                               tazo green tea latte  Grande Nonfat Milk   \n",
            "125                               tazo green tea latte             2% Milk   \n",
            "127                               tazo green tea latte   Venti Nonfat Milk   \n",
            "128                               tazo green tea latte             2% Milk   \n",
            "169  shaken iced tazo tea lemonade (with classic sy...                Tall   \n",
            "170  shaken iced tazo tea lemonade (with classic sy...              Grande   \n",
            "171  shaken iced tazo tea lemonade (with classic sy...               Venti   \n",
            "172                          banana chocolate smoothie  Grande Nonfat Milk   \n",
            "175                       orange mango banana smoothie  Grande Nonfat Milk   \n",
            "176                       orange mango banana smoothie             2% Milk   \n",
            "177                       orange mango banana smoothie             Soymilk   \n",
            "178                         strawberry banana smoothie  Grande Nonfat Milk   \n",
            "179                         strawberry banana smoothie             2% Milk   \n",
            "180                         strawberry banana smoothie             Soymilk   \n",
            "229         strawberries  crme (without whipped cream)    Tall Nonfat Milk   \n",
            "230         strawberries  crme (without whipped cream)          Whole Milk   \n",
            "232         strawberries  crme (without whipped cream)  Grande Nonfat Milk   \n",
            "233         strawberries  crme (without whipped cream)          Whole Milk   \n",
            "235         strawberries  crme (without whipped cream)   Venti Nonfat Milk   \n",
            "236         strawberries  crme (without whipped cream)          Whole Milk   \n",
            "\n",
            "     calories  total fat  trans fat  saturated fat  sodium  \\\n",
            "11        190        7.0        3.5            0.2      30   \n",
            "14        240        9.0        4.5            0.3      35   \n",
            "35        250        6.0        3.5            0.2      25   \n",
            "38        320        9.0        4.5            0.3      35   \n",
            "69        240        7.0        3.5            0.2      25   \n",
            "72        300        8.0        4.5            0.2      35   \n",
            "75        200        6.0        3.5            0.1      15   \n",
            "77        270        4.5        3.5            0.0       5   \n",
            "78        310        9.0        6.0            0.1      20   \n",
            "81        400       11.0        7.0            0.2      25   \n",
            "84        510       15.0        9.0            0.2      35   \n",
            "118       130        0.2        0.1            0.0       5   \n",
            "119       170        4.0        2.0            0.1      15   \n",
            "121       210        0.4        0.2            0.0       5   \n",
            "122       260        6.0        3.0            0.2      25   \n",
            "124       290        0.5        0.2            0.0      10   \n",
            "125       350        8.0        4.0            0.2      30   \n",
            "127       370        0.5        0.3            0.0      10   \n",
            "128       450       10.0        5.0            0.3      40   \n",
            "169       100        0.0        0.0            0.0       0   \n",
            "170       130        0.0        0.0            0.0       0   \n",
            "171       190        0.0        0.0            0.0       0   \n",
            "172       280        2.5        1.5            0.0       5   \n",
            "175       260        1.0        0.3            0.0       5   \n",
            "176       270        1.5        0.5            0.0       5   \n",
            "177       270        1.5        0.4            0.0       5   \n",
            "178       290        1.0        0.3            0.0       5   \n",
            "179       290        2.0        1.0            0.0       5   \n",
            "180       290        2.0        0.4            0.0       5   \n",
            "229       170        0.1        0.1            0.0       0   \n",
            "230       190        3.0        1.5            0.1      10   \n",
            "232       230        0.2        0.1            0.0       0   \n",
            "233       260        4.0        2.0            0.1      10   \n",
            "235       310        0.2        0.1            0.0       5   \n",
            "236       350        6.0        3.0            0.2      15   \n",
            "\n",
            "     total carbohydrates  cholesterol  dietary fibre  sugars  protein  \\\n",
            "11                   170           19              0      17     12.0   \n",
            "14                   220           24              0      22     16.0   \n",
            "35                   150           37              0      35     12.0   \n",
            "38                   200           46              0      44     15.0   \n",
            "69                   150           34              0      32     10.0   \n",
            "72                   180           43              0      40     13.0   \n",
            "75                   125           31              0      29      7.0   \n",
            "77                   190           47              0      45     12.0   \n",
            "78                   200           46              0      44     11.0   \n",
            "81                   250           61              0      58     15.0   \n",
            "84                   330           77              0      74     19.0   \n",
            "118                   85           26              0      25      7.0   \n",
            "119                   95           26              0      25      7.0   \n",
            "121                  125           42              1      41     11.0   \n",
            "122                  140           41              1      40     10.0   \n",
            "124                  160           57              1      56     14.0   \n",
            "125                  180           57              1      55     14.0   \n",
            "127                  200           73              2      71     18.0   \n",
            "128                  230           72              2      71     17.0   \n",
            "169                    0           25              0      24      0.1   \n",
            "170                    0           33              0      33      0.1   \n",
            "171                    0           49              0      49      0.1   \n",
            "172                  150           53              7      34     20.0   \n",
            "175                  120           54              6      37     16.0   \n",
            "176                  125           53              6      37     16.0   \n",
            "177                  120           53              6      36     15.0   \n",
            "178                  125           58              7      41     16.0   \n",
            "179                  125           58              7      41     16.0   \n",
            "180                  120           58              8      40     16.0   \n",
            "229                  140           39              0      38      3.0   \n",
            "230                  140           38              0      37      3.0   \n",
            "232                  190           53              0      52      4.0   \n",
            "233                  190           53              0      52      4.0   \n",
            "235                  260           70              0      69      6.0   \n",
            "236                  260           70              0      68      6.0   \n",
            "\n",
            "     vitamin a  vitamin c  calcium  iron    caffeine  \n",
            "11          20          2       40   0.0  150.000000  \n",
            "14          25          2       50   0.0  150.000000  \n",
            "35          20          2       35   0.0  150.000000  \n",
            "38          25          2       45   0.0  150.000000  \n",
            "69          15          2       30   0.0  150.000000  \n",
            "72          20          2       40   0.0  150.000000  \n",
            "75           8          2       25   0.0   75.000000  \n",
            "77          15          2       35   0.0   75.000000  \n",
            "78          15          2       35   0.0   75.000000  \n",
            "81          15          2       45   0.0  150.000000  \n",
            "84          20          4       60   2.0  150.000000  \n",
            "118         10          4       20   2.0   25.000000  \n",
            "119         10          6       20   2.0   25.000000  \n",
            "121         20         10       35   4.0   55.000000  \n",
            "122         15         10       35   4.0   55.000000  \n",
            "124         25         15       45   4.0   80.000000  \n",
            "125         20         15       45   4.0   80.000000  \n",
            "127         30         20       60   6.0  110.000000  \n",
            "128         25         20       50   6.0  110.000000  \n",
            "169          0         10        0   0.0   89.520548  \n",
            "170          0         15        0   0.0   89.520548  \n",
            "171          0         20        0   0.0   89.520548  \n",
            "172         10         15       20   0.0   89.520548  \n",
            "175         50         80       10  30.0   15.000000  \n",
            "176         50         80       10   6.0    0.000000  \n",
            "177         50         80       10   6.0    0.000000  \n",
            "178          4        100       10   8.0    0.000000  \n",
            "179          4        100       10   8.0    0.000000  \n",
            "180          2        100       10   8.0    0.000000  \n",
            "229          6          6       10   2.0    0.000000  \n",
            "230          4          6       10   2.0    0.000000  \n",
            "232          8          6       15   4.0    0.000000  \n",
            "233          6          6       15   4.0    0.000000  \n",
            "235         10          8       20   4.0    0.000000  \n",
            "236          8          8       20   4.0    0.000000  \n"
          ]
        }
      ],
      "source": [
        "# select all rows whose vitamin c content is higher than the iron content\n",
        "df_starbucks = pd.read_csv(path)\n",
        "df_greaterthan_iron = df_starbucks[df_starbucks[\"vitamin c\"] > df_starbucks[\"iron\"]]\n",
        "print(df_greaterthan_iron)"
      ]
    },
    {
      "cell_type": "code",
      "execution_count": 32,
      "id": "d4de48bb",
      "metadata": {
        "id": "d4de48bb",
        "colab": {
          "base_uri": "https://localhost:8080/"
        },
        "outputId": "59604fb3-5851-417f-fc67-1261305a9169"
      },
      "outputs": [
        {
          "output_type": "stream",
          "name": "stdout",
          "text": [
            "         beverage_category       beverage      beverage_prep  calories  \\\n",
            "0                   coffee  brewed coffee              Short         3   \n",
            "1                   coffee  brewed coffee               Tall         4   \n",
            "2                   coffee  brewed coffee             Grande         5   \n",
            "3                   coffee  brewed coffee              Venti         5   \n",
            "4  classic espresso drinks     caff latte  Short Nonfat Milk        70   \n",
            "\n",
            "   total fat  trans fat  saturated fat  sodium  total carbohydrates  \\\n",
            "0        0.1        0.0            0.0       0                    5   \n",
            "1        0.1        0.0            0.0       0                   10   \n",
            "2        0.1        0.0            0.0       0                   10   \n",
            "3        0.1        0.0            0.0       0                   10   \n",
            "4        0.1        0.1            0.0       5                   75   \n",
            "\n",
            "   cholesterol  dietary fibre  sugars  protein  vitamin a  vitamin c  calcium  \\\n",
            "0            0              0       0      0.3          0          0        0   \n",
            "1            0              0       0      0.5          0          0        0   \n",
            "2            0              0       0      1.0          0          0        0   \n",
            "3            0              0       0      1.0          0          0        2   \n",
            "4           10              0       9      6.0         10          0       20   \n",
            "\n",
            "   iron  caffeine  caffeine per calories  \n",
            "0   0.0     175.0              58.333333  \n",
            "1   0.0     260.0              65.000000  \n",
            "2   0.0     330.0              66.000000  \n",
            "3   0.0     410.0              82.000000  \n",
            "4   0.0      75.0               1.071429  \n"
          ]
        }
      ],
      "source": [
        "# create a new column containing the caffeine per calories of each drink\n",
        "df_starbucks = pd.read_csv(path)\n",
        "df_starbucks[\"caffeine per calories\"] = df_starbucks[\"caffeine\"] / df_starbucks[\"calories\"]\n",
        "print(df_starbucks.head())"
      ]
    },
    {
      "cell_type": "code",
      "execution_count": 33,
      "metadata": {
        "id": "rIoxaSxHshvB",
        "colab": {
          "base_uri": "https://localhost:8080/"
        },
        "outputId": "276cd5d9-7d88-4a19-8958-219257f3ef9d"
      },
      "outputs": [
        {
          "output_type": "stream",
          "name": "stdout",
          "text": [
            "193.87190082644628\n"
          ]
        }
      ],
      "source": [
        "# what is the average calorie across all items?\n",
        "df_starbucks = pd.read_csv(path)\n",
        "print(df_starbucks[\"calories\"].mean())\n"
      ],
      "id": "rIoxaSxHshvB"
    },
    {
      "cell_type": "code",
      "execution_count": 34,
      "metadata": {
        "id": "ABX7i49FshvD",
        "colab": {
          "base_uri": "https://localhost:8080/"
        },
        "outputId": "0780fc58-d0b7-4b39-ee07-7414ec7b8907"
      },
      "outputs": [
        {
          "output_type": "stream",
          "name": "stdout",
          "text": [
            "9\n"
          ]
        }
      ],
      "source": [
        "# how many different categories of beverages are there?\n",
        "df_starbucks = pd.read_csv(path)\n",
        "print(df_starbucks[\"beverage_category\"].nunique())"
      ],
      "id": "ABX7i49FshvD"
    },
    {
      "cell_type": "code",
      "execution_count": 35,
      "metadata": {
        "id": "P9QatZAzshvE",
        "colab": {
          "base_uri": "https://localhost:8080/"
        },
        "outputId": "85ebe8a3-003a-4bb7-b484-6fcec21fca49"
      },
      "outputs": [
        {
          "output_type": "stream",
          "name": "stdout",
          "text": [
            "beverage_category\n",
            "classic espresso drinks             140.172414\n",
            "coffee                                4.250000\n",
            "frappuccino blended coffee          276.944444\n",
            "frappuccino blended crme            233.076923\n",
            "frappuccino light blended coffee    162.500000\n",
            "shaken iced beverages               114.444444\n",
            "signature espresso drinks           250.000000\n",
            "smoothies                           282.222222\n",
            "tazo tea drinks                     177.307692\n",
            "Name: calories, dtype: float64\n"
          ]
        }
      ],
      "source": [
        "# what is the average # calories for each beverage category?\n",
        "df_starbucks = pd.read_csv(path)\n",
        "print(df_starbucks.groupby(\"beverage_category\")[\"calories\"].mean())"
      ],
      "id": "P9QatZAzshvE"
    },
    {
      "cell_type": "code",
      "source": [],
      "metadata": {
        "id": "1eNjb2KARahm"
      },
      "id": "1eNjb2KARahm",
      "execution_count": null,
      "outputs": []
    }
  ],
  "metadata": {
    "kernelspec": {
      "display_name": "Python 3.9.0 64-bit",
      "language": "python",
      "name": "python3"
    },
    "language_info": {
      "codemirror_mode": {
        "name": "ipython",
        "version": 3
      },
      "file_extension": ".py",
      "mimetype": "text/x-python",
      "name": "python",
      "nbconvert_exporter": "python",
      "pygments_lexer": "ipython3",
      "version": "3.9.0"
    },
    "vscode": {
      "interpreter": {
        "hash": "6cf8df3ff69f85f626faf55c10df6fe2cb9d1236b4dc73844ee4dc01369c2c99"
      }
    },
    "colab": {
      "provenance": [],
      "include_colab_link": true
    }
  },
  "nbformat": 4,
  "nbformat_minor": 5
}